{
 "cells": [
  {
   "cell_type": "code",
   "execution_count": 11,
   "id": "36268856",
   "metadata": {},
   "outputs": [],
   "source": [
    "import polars as pl\n"
   ]
  },
  {
   "cell_type": "code",
   "execution_count": 12,
   "id": "c7b2338e",
   "metadata": {},
   "outputs": [],
   "source": [
    "df = pl.read_csv(\"troubleshooting.csv\").filter(pl.col(\"hits_count\") != 0)"
   ]
  },
  {
   "cell_type": "code",
   "execution_count": 13,
   "id": "9cde235c",
   "metadata": {},
   "outputs": [
    {
     "data": {
      "text/html": [
       "<div><style>\n",
       ".dataframe > thead > tr,\n",
       ".dataframe > tbody > tr {\n",
       "  text-align: right;\n",
       "  white-space: pre-wrap;\n",
       "}\n",
       "</style>\n",
       "<small>shape: (9, 4)</small><table border=\"1\" class=\"dataframe\"><thead><tr><th>statistic</th><th>page</th><th>hits_count</th><th>records_on_page</th></tr><tr><td>str</td><td>f64</td><td>f64</td><td>f64</td></tr></thead><tbody><tr><td>&quot;count&quot;</td><td>245.0</td><td>245.0</td><td>245.0</td></tr><tr><td>&quot;null_count&quot;</td><td>0.0</td><td>0.0</td><td>0.0</td></tr><tr><td>&quot;mean&quot;</td><td>123.0</td><td>2439.644898</td><td>9.987755</td></tr><tr><td>&quot;std&quot;</td><td>70.869599</td><td>10.776817</td><td>0.191663</td></tr><tr><td>&quot;min&quot;</td><td>1.0</td><td>2423.0</td><td>7.0</td></tr><tr><td>&quot;25%&quot;</td><td>62.0</td><td>2424.0</td><td>10.0</td></tr><tr><td>&quot;50%&quot;</td><td>123.0</td><td>2447.0</td><td>10.0</td></tr><tr><td>&quot;75%&quot;</td><td>184.0</td><td>2447.0</td><td>10.0</td></tr><tr><td>&quot;max&quot;</td><td>245.0</td><td>2447.0</td><td>10.0</td></tr></tbody></table></div>"
      ],
      "text/plain": [
       "shape: (9, 4)\n",
       "┌────────────┬───────────┬─────────────┬─────────────────┐\n",
       "│ statistic  ┆ page      ┆ hits_count  ┆ records_on_page │\n",
       "│ ---        ┆ ---       ┆ ---         ┆ ---             │\n",
       "│ str        ┆ f64       ┆ f64         ┆ f64             │\n",
       "╞════════════╪═══════════╪═════════════╪═════════════════╡\n",
       "│ count      ┆ 245.0     ┆ 245.0       ┆ 245.0           │\n",
       "│ null_count ┆ 0.0       ┆ 0.0         ┆ 0.0             │\n",
       "│ mean       ┆ 123.0     ┆ 2439.644898 ┆ 9.987755        │\n",
       "│ std        ┆ 70.869599 ┆ 10.776817   ┆ 0.191663        │\n",
       "│ min        ┆ 1.0       ┆ 2423.0      ┆ 7.0             │\n",
       "│ 25%        ┆ 62.0      ┆ 2424.0      ┆ 10.0            │\n",
       "│ 50%        ┆ 123.0     ┆ 2447.0      ┆ 10.0            │\n",
       "│ 75%        ┆ 184.0     ┆ 2447.0      ┆ 10.0            │\n",
       "│ max        ┆ 245.0     ┆ 2447.0      ┆ 10.0            │\n",
       "└────────────┴───────────┴─────────────┴─────────────────┘"
      ]
     },
     "execution_count": 13,
     "metadata": {},
     "output_type": "execute_result"
    }
   ],
   "source": [
    "df.describe()"
   ]
  },
  {
   "cell_type": "code",
   "execution_count": 14,
   "id": "343fa01a",
   "metadata": {},
   "outputs": [
    {
     "data": {
      "text/html": [
       "<div><style>\n",
       ".dataframe > thead > tr,\n",
       ".dataframe > tbody > tr {\n",
       "  text-align: right;\n",
       "  white-space: pre-wrap;\n",
       "}\n",
       "</style>\n",
       "<small>shape: (4, 2)</small><table border=\"1\" class=\"dataframe\"><thead><tr><th>hits_count</th><th>count</th></tr><tr><td>i64</td><td>u32</td></tr></thead><tbody><tr><td>2447</td><td>166</td></tr><tr><td>2423</td><td>7</td></tr><tr><td>2446</td><td>1</td></tr><tr><td>2424</td><td>71</td></tr></tbody></table></div>"
      ],
      "text/plain": [
       "shape: (4, 2)\n",
       "┌────────────┬───────┐\n",
       "│ hits_count ┆ count │\n",
       "│ ---        ┆ ---   │\n",
       "│ i64        ┆ u32   │\n",
       "╞════════════╪═══════╡\n",
       "│ 2447       ┆ 166   │\n",
       "│ 2423       ┆ 7     │\n",
       "│ 2446       ┆ 1     │\n",
       "│ 2424       ┆ 71    │\n",
       "└────────────┴───────┘"
      ]
     },
     "execution_count": 14,
     "metadata": {},
     "output_type": "execute_result"
    }
   ],
   "source": [
    "df[\"hits_count\"].value_counts()"
   ]
  }
 ],
 "metadata": {
  "kernelspec": {
   "display_name": "funding-crawler",
   "language": "python",
   "name": "python3"
  },
  "language_info": {
   "codemirror_mode": {
    "name": "ipython",
    "version": 3
   },
   "file_extension": ".py",
   "mimetype": "text/x-python",
   "name": "python",
   "nbconvert_exporter": "python",
   "pygments_lexer": "ipython3",
   "version": "3.12.7"
  }
 },
 "nbformat": 4,
 "nbformat_minor": 5
}
