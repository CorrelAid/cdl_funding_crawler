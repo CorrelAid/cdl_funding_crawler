{
 "cells": [
  {
   "cell_type": "code",
   "execution_count": 1,
   "id": "36268856",
   "metadata": {},
   "outputs": [],
   "source": [
    "import polars as pl\n"
   ]
  },
  {
   "cell_type": "code",
   "execution_count": 3,
   "id": "c7b2338e",
   "metadata": {},
   "outputs": [],
   "source": [
    "df = pl.read_parquet(\"troubleshooting.parquet\").filter(pl.col(\"hits_count\") != 0)"
   ]
  },
  {
   "cell_type": "code",
   "execution_count": 4,
   "id": "9cde235c",
   "metadata": {},
   "outputs": [
    {
     "data": {
      "text/html": [
       "<div><style>\n",
       ".dataframe > thead > tr,\n",
       ".dataframe > tbody > tr {\n",
       "  text-align: right;\n",
       "  white-space: pre-wrap;\n",
       "}\n",
       "</style>\n",
       "<small>shape: (9, 5)</small><table border=\"1\" class=\"dataframe\"><thead><tr><th>statistic</th><th>hits_count</th><th>records_on_page</th><th>entries</th><th>page</th></tr><tr><td>str</td><td>f64</td><td>f64</td><td>f64</td><td>f64</td></tr></thead><tbody><tr><td>&quot;count&quot;</td><td>245.0</td><td>245.0</td><td>245.0</td><td>245.0</td></tr><tr><td>&quot;null_count&quot;</td><td>0.0</td><td>0.0</td><td>0.0</td><td>0.0</td></tr><tr><td>&quot;mean&quot;</td><td>2445.995918</td><td>9.983673</td><td>null</td><td>123.0</td></tr><tr><td>&quot;std&quot;</td><td>0.063888</td><td>0.255551</td><td>null</td><td>70.869599</td></tr><tr><td>&quot;min&quot;</td><td>2445.0</td><td>6.0</td><td>null</td><td>1.0</td></tr><tr><td>&quot;25%&quot;</td><td>2446.0</td><td>10.0</td><td>null</td><td>62.0</td></tr><tr><td>&quot;50%&quot;</td><td>2446.0</td><td>10.0</td><td>null</td><td>123.0</td></tr><tr><td>&quot;75%&quot;</td><td>2446.0</td><td>10.0</td><td>null</td><td>184.0</td></tr><tr><td>&quot;max&quot;</td><td>2446.0</td><td>10.0</td><td>null</td><td>245.0</td></tr></tbody></table></div>"
      ],
      "text/plain": [
       "shape: (9, 5)\n",
       "┌────────────┬─────────────┬─────────────────┬─────────┬───────────┐\n",
       "│ statistic  ┆ hits_count  ┆ records_on_page ┆ entries ┆ page      │\n",
       "│ ---        ┆ ---         ┆ ---             ┆ ---     ┆ ---       │\n",
       "│ str        ┆ f64         ┆ f64             ┆ f64     ┆ f64       │\n",
       "╞════════════╪═════════════╪═════════════════╪═════════╪═══════════╡\n",
       "│ count      ┆ 245.0       ┆ 245.0           ┆ 245.0   ┆ 245.0     │\n",
       "│ null_count ┆ 0.0         ┆ 0.0             ┆ 0.0     ┆ 0.0       │\n",
       "│ mean       ┆ 2445.995918 ┆ 9.983673        ┆ null    ┆ 123.0     │\n",
       "│ std        ┆ 0.063888    ┆ 0.255551        ┆ null    ┆ 70.869599 │\n",
       "│ min        ┆ 2445.0      ┆ 6.0             ┆ null    ┆ 1.0       │\n",
       "│ 25%        ┆ 2446.0      ┆ 10.0            ┆ null    ┆ 62.0      │\n",
       "│ 50%        ┆ 2446.0      ┆ 10.0            ┆ null    ┆ 123.0     │\n",
       "│ 75%        ┆ 2446.0      ┆ 10.0            ┆ null    ┆ 184.0     │\n",
       "│ max        ┆ 2446.0      ┆ 10.0            ┆ null    ┆ 245.0     │\n",
       "└────────────┴─────────────┴─────────────────┴─────────┴───────────┘"
      ]
     },
     "execution_count": 4,
     "metadata": {},
     "output_type": "execute_result"
    }
   ],
   "source": [
    "df.describe()"
   ]
  },
  {
   "cell_type": "code",
   "execution_count": 5,
   "id": "343fa01a",
   "metadata": {},
   "outputs": [
    {
     "data": {
      "text/html": [
       "<div><style>\n",
       ".dataframe > thead > tr,\n",
       ".dataframe > tbody > tr {\n",
       "  text-align: right;\n",
       "  white-space: pre-wrap;\n",
       "}\n",
       "</style>\n",
       "<small>shape: (2, 2)</small><table border=\"1\" class=\"dataframe\"><thead><tr><th>hits_count</th><th>count</th></tr><tr><td>i64</td><td>u32</td></tr></thead><tbody><tr><td>2445</td><td>1</td></tr><tr><td>2446</td><td>244</td></tr></tbody></table></div>"
      ],
      "text/plain": [
       "shape: (2, 2)\n",
       "┌────────────┬───────┐\n",
       "│ hits_count ┆ count │\n",
       "│ ---        ┆ ---   │\n",
       "│ i64        ┆ u32   │\n",
       "╞════════════╪═══════╡\n",
       "│ 2445       ┆ 1     │\n",
       "│ 2446       ┆ 244   │\n",
       "└────────────┴───────┘"
      ]
     },
     "execution_count": 5,
     "metadata": {},
     "output_type": "execute_result"
    }
   ],
   "source": [
    "df[\"hits_count\"].value_counts()"
   ]
  }
 ],
 "metadata": {
  "kernelspec": {
   "display_name": "funding-crawler",
   "language": "python",
   "name": "python3"
  },
  "language_info": {
   "codemirror_mode": {
    "name": "ipython",
    "version": 3
   },
   "file_extension": ".py",
   "mimetype": "text/x-python",
   "name": "python",
   "nbconvert_exporter": "python",
   "pygments_lexer": "ipython3",
   "version": "3.12.7"
  }
 },
 "nbformat": 4,
 "nbformat_minor": 5
}
